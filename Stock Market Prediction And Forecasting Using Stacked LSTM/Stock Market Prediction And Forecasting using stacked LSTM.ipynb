{
  "cells": [
    {
      "cell_type": "markdown",
      "metadata": {},
      "source": [
        "LETSGROWMORE VIRTUAL INTERNSHIP PROGRAM (DATA-SCIENCE).\n",
        "\n",
        "TASK:2 (Stock Market Prediction And Forecasting using stacked LSTM).\n",
        "\n",
        "DONE BY: Sapratibh Shyam.\n",
        "\n",
        "MONTH: April"
      ]
    },
    {
      "cell_type": "code",
      "execution_count": 1,
      "metadata": {
        "id": "Ind38rAV25tN"
      },
      "outputs": [],
      "source": [
        "import pandas as pd\n",
        "import numpy as np\n",
        "import math\n",
        "import matplotlib.pyplot as plt\n",
        "from sklearn.preprocessing import MinMaxScaler\n",
        "from sklearn.metrics import mean_squared_error\n",
        "import tensorflow as tf\n",
        "from tensorflow.python.keras.models import Sequential\n",
        "from tensorflow.python.keras.layers import Dense\n",
        "from tensorflow.python.keras.layers import LSTM\n",
        "%matplotlib inline"
      ]
    },
    {
      "cell_type": "code",
      "execution_count": 2,
      "metadata": {
        "colab": {
          "base_uri": "https://localhost:8080/",
          "height": 36
        },
        "id": "P1IJisza3F24",
        "outputId": "27459542-a530-4f8a-9fb6-b6fbbd9beb78"
      },
      "outputs": [
        {
          "data": {
            "text/plain": [
              "'2.8.0'"
            ]
          },
          "execution_count": 2,
          "metadata": {},
          "output_type": "execute_result"
        }
      ],
      "source": [
        "tf.__version__"
      ]
    },
    {
      "cell_type": "code",
      "execution_count": 3,
      "metadata": {
        "colab": {
          "base_uri": "https://localhost:8080/",
          "height": 206
        },
        "id": "N8z3srx73IOi",
        "outputId": "d5fa4e1a-d5a0-40a0-8164-c3cca28a231e"
      },
      "outputs": [
        {
          "data": {
            "text/html": [
              "<div>\n",
              "<style scoped>\n",
              "    .dataframe tbody tr th:only-of-type {\n",
              "        vertical-align: middle;\n",
              "    }\n",
              "\n",
              "    .dataframe tbody tr th {\n",
              "        vertical-align: top;\n",
              "    }\n",
              "\n",
              "    .dataframe thead th {\n",
              "        text-align: right;\n",
              "    }\n",
              "</style>\n",
              "<table border=\"1\" class=\"dataframe\">\n",
              "  <thead>\n",
              "    <tr style=\"text-align: right;\">\n",
              "      <th></th>\n",
              "      <th>Date</th>\n",
              "      <th>Open</th>\n",
              "      <th>High</th>\n",
              "      <th>Low</th>\n",
              "      <th>Last</th>\n",
              "      <th>Close</th>\n",
              "      <th>Total Trade Quantity</th>\n",
              "      <th>Turnover (Lacs)</th>\n",
              "    </tr>\n",
              "  </thead>\n",
              "  <tbody>\n",
              "    <tr>\n",
              "      <th>2034</th>\n",
              "      <td>2010-07-21</td>\n",
              "      <td>122.1</td>\n",
              "      <td>123.00</td>\n",
              "      <td>121.05</td>\n",
              "      <td>121.10</td>\n",
              "      <td>121.55</td>\n",
              "      <td>658666</td>\n",
              "      <td>803.56</td>\n",
              "    </tr>\n",
              "    <tr>\n",
              "      <th>2033</th>\n",
              "      <td>2010-07-22</td>\n",
              "      <td>120.3</td>\n",
              "      <td>122.00</td>\n",
              "      <td>120.25</td>\n",
              "      <td>120.75</td>\n",
              "      <td>120.90</td>\n",
              "      <td>293312</td>\n",
              "      <td>355.17</td>\n",
              "    </tr>\n",
              "    <tr>\n",
              "      <th>2032</th>\n",
              "      <td>2010-07-23</td>\n",
              "      <td>121.8</td>\n",
              "      <td>121.95</td>\n",
              "      <td>120.25</td>\n",
              "      <td>120.35</td>\n",
              "      <td>120.65</td>\n",
              "      <td>281312</td>\n",
              "      <td>340.31</td>\n",
              "    </tr>\n",
              "    <tr>\n",
              "      <th>2031</th>\n",
              "      <td>2010-07-26</td>\n",
              "      <td>120.1</td>\n",
              "      <td>121.00</td>\n",
              "      <td>117.10</td>\n",
              "      <td>117.10</td>\n",
              "      <td>117.60</td>\n",
              "      <td>658440</td>\n",
              "      <td>780.01</td>\n",
              "    </tr>\n",
              "    <tr>\n",
              "      <th>2030</th>\n",
              "      <td>2010-07-27</td>\n",
              "      <td>117.6</td>\n",
              "      <td>119.50</td>\n",
              "      <td>112.00</td>\n",
              "      <td>118.80</td>\n",
              "      <td>118.65</td>\n",
              "      <td>586100</td>\n",
              "      <td>694.98</td>\n",
              "    </tr>\n",
              "  </tbody>\n",
              "</table>\n",
              "</div>"
            ],
            "text/plain": [
              "            Date   Open    High     Low    Last   Close  Total Trade Quantity  \\\n",
              "2034  2010-07-21  122.1  123.00  121.05  121.10  121.55                658666   \n",
              "2033  2010-07-22  120.3  122.00  120.25  120.75  120.90                293312   \n",
              "2032  2010-07-23  121.8  121.95  120.25  120.35  120.65                281312   \n",
              "2031  2010-07-26  120.1  121.00  117.10  117.10  117.60                658440   \n",
              "2030  2010-07-27  117.6  119.50  112.00  118.80  118.65                586100   \n",
              "\n",
              "      Turnover (Lacs)  \n",
              "2034           803.56  \n",
              "2033           355.17  \n",
              "2032           340.31  \n",
              "2031           780.01  \n",
              "2030           694.98  "
            ]
          },
          "execution_count": 3,
          "metadata": {},
          "output_type": "execute_result"
        }
      ],
      "source": [
        "defn = pd.read_csv('https://raw.githubusercontent.com/mwitiderrick/stockprice/master/NSE-TATAGLOBAL.csv')\n",
        "defn=defn. iloc[::-1]\n",
        "defn.head()\n",
        "\n"
      ]
    },
    {
      "cell_type": "code",
      "execution_count": 4,
      "metadata": {
        "colab": {
          "base_uri": "https://localhost:8080/",
          "height": 206
        },
        "id": "wfYbFiJz3MBf",
        "outputId": "a5366c11-0049-4f61-a393-8746acfc56bf"
      },
      "outputs": [
        {
          "data": {
            "text/html": [
              "<div>\n",
              "<style scoped>\n",
              "    .dataframe tbody tr th:only-of-type {\n",
              "        vertical-align: middle;\n",
              "    }\n",
              "\n",
              "    .dataframe tbody tr th {\n",
              "        vertical-align: top;\n",
              "    }\n",
              "\n",
              "    .dataframe thead th {\n",
              "        text-align: right;\n",
              "    }\n",
              "</style>\n",
              "<table border=\"1\" class=\"dataframe\">\n",
              "  <thead>\n",
              "    <tr style=\"text-align: right;\">\n",
              "      <th></th>\n",
              "      <th>Date</th>\n",
              "      <th>Open</th>\n",
              "      <th>High</th>\n",
              "      <th>Low</th>\n",
              "      <th>Last</th>\n",
              "      <th>Close</th>\n",
              "      <th>Total Trade Quantity</th>\n",
              "      <th>Turnover (Lacs)</th>\n",
              "    </tr>\n",
              "  </thead>\n",
              "  <tbody>\n",
              "    <tr>\n",
              "      <th>4</th>\n",
              "      <td>2018-09-24</td>\n",
              "      <td>233.55</td>\n",
              "      <td>239.20</td>\n",
              "      <td>230.75</td>\n",
              "      <td>234.00</td>\n",
              "      <td>233.30</td>\n",
              "      <td>3423509</td>\n",
              "      <td>7999.55</td>\n",
              "    </tr>\n",
              "    <tr>\n",
              "      <th>3</th>\n",
              "      <td>2018-09-25</td>\n",
              "      <td>233.30</td>\n",
              "      <td>236.75</td>\n",
              "      <td>232.00</td>\n",
              "      <td>236.25</td>\n",
              "      <td>236.10</td>\n",
              "      <td>2349368</td>\n",
              "      <td>5503.90</td>\n",
              "    </tr>\n",
              "    <tr>\n",
              "      <th>2</th>\n",
              "      <td>2018-09-26</td>\n",
              "      <td>240.00</td>\n",
              "      <td>240.00</td>\n",
              "      <td>232.50</td>\n",
              "      <td>235.00</td>\n",
              "      <td>234.25</td>\n",
              "      <td>2240909</td>\n",
              "      <td>5248.60</td>\n",
              "    </tr>\n",
              "    <tr>\n",
              "      <th>1</th>\n",
              "      <td>2018-09-27</td>\n",
              "      <td>234.55</td>\n",
              "      <td>236.80</td>\n",
              "      <td>231.10</td>\n",
              "      <td>233.80</td>\n",
              "      <td>233.25</td>\n",
              "      <td>5082859</td>\n",
              "      <td>11859.95</td>\n",
              "    </tr>\n",
              "    <tr>\n",
              "      <th>0</th>\n",
              "      <td>2018-09-28</td>\n",
              "      <td>234.05</td>\n",
              "      <td>235.95</td>\n",
              "      <td>230.20</td>\n",
              "      <td>233.50</td>\n",
              "      <td>233.75</td>\n",
              "      <td>3069914</td>\n",
              "      <td>7162.35</td>\n",
              "    </tr>\n",
              "  </tbody>\n",
              "</table>\n",
              "</div>"
            ],
            "text/plain": [
              "         Date    Open    High     Low    Last   Close  Total Trade Quantity  \\\n",
              "4  2018-09-24  233.55  239.20  230.75  234.00  233.30               3423509   \n",
              "3  2018-09-25  233.30  236.75  232.00  236.25  236.10               2349368   \n",
              "2  2018-09-26  240.00  240.00  232.50  235.00  234.25               2240909   \n",
              "1  2018-09-27  234.55  236.80  231.10  233.80  233.25               5082859   \n",
              "0  2018-09-28  234.05  235.95  230.20  233.50  233.75               3069914   \n",
              "\n",
              "   Turnover (Lacs)  \n",
              "4          7999.55  \n",
              "3          5503.90  \n",
              "2          5248.60  \n",
              "1         11859.95  \n",
              "0          7162.35  "
            ]
          },
          "execution_count": 4,
          "metadata": {},
          "output_type": "execute_result"
        }
      ],
      "source": [
        "defn.tail()"
      ]
    },
    {
      "cell_type": "code",
      "execution_count": 5,
      "metadata": {
        "colab": {
          "base_uri": "https://localhost:8080/"
        },
        "id": "t1vfufWn3OJ7",
        "outputId": "30d72724-1a02-4295-a40f-22c2df12f6c6"
      },
      "outputs": [
        {
          "data": {
            "text/plain": [
              "Date                    0\n",
              "Open                    0\n",
              "High                    0\n",
              "Low                     0\n",
              "Last                    0\n",
              "Close                   0\n",
              "Total Trade Quantity    0\n",
              "Turnover (Lacs)         0\n",
              "dtype: int64"
            ]
          },
          "execution_count": 5,
          "metadata": {},
          "output_type": "execute_result"
        }
      ],
      "source": [
        "defn.isnull().sum()"
      ]
    },
    {
      "cell_type": "code",
      "execution_count": 6,
      "metadata": {
        "colab": {
          "base_uri": "https://localhost:8080/"
        },
        "id": "rAmInUts3SMN",
        "outputId": "c4f3136c-2fcd-4012-c18e-15993aaf40eb"
      },
      "outputs": [
        {
          "data": {
            "text/plain": [
              "(2035, 8)"
            ]
          },
          "execution_count": 6,
          "metadata": {},
          "output_type": "execute_result"
        }
      ],
      "source": [
        "defn.shape"
      ]
    },
    {
      "cell_type": "code",
      "execution_count": 7,
      "metadata": {
        "colab": {
          "base_uri": "https://localhost:8080/",
          "height": 284
        },
        "id": "ouIujTT63Uvw",
        "outputId": "ea9cdeac-893f-4a52-f185-cfc52c2553eb"
      },
      "outputs": [
        {
          "data": {
            "text/plain": [
              "[<matplotlib.lines.Line2D at 0x24229fa43a0>]"
            ]
          },
          "execution_count": 7,
          "metadata": {},
          "output_type": "execute_result"
        },
        {
          "data": {
            "image/png": "[encoded data removed]",
            "text/plain": [
              "<Figure size 432x288 with 1 Axes>"
            ]
          },
          "metadata": {
            "needs_background": "light"
          },
          "output_type": "display_data"
        }
      ],
      "source": [
        "defn_high=defn.reset_index()['High']\n",
        "plt.plot(defn_high)"
      ]
    },
    {
      "cell_type": "code",
      "execution_count": 8,
      "metadata": {
        "id": "sbuf080m3ZPK"
      },
      "outputs": [],
      "source": [
        "sclr = MinMaxScaler(feature_range = (0,1))\n",
        "defn_high = sclr.fit_transform(np.array(defn_high).reshape(-1,1))"
      ]
    },
    {
      "cell_type": "code",
      "execution_count": 9,
      "metadata": {
        "colab": {
          "base_uri": "https://localhost:8080/"
        },
        "id": "mUbKrCCr3fAv",
        "outputId": "1cd51436-8783-4934-ac8b-c72645c034fa"
      },
      "outputs": [
        {
          "data": {
            "text/plain": [
              "(2035, 1)"
            ]
          },
          "execution_count": 9,
          "metadata": {},
          "output_type": "execute_result"
        }
      ],
      "source": [
        "defn_high.shape"
      ]
    },
    {
      "cell_type": "code",
      "execution_count": 10,
      "metadata": {
        "colab": {
          "base_uri": "https://localhost:8080/"
        },
        "id": "k9bozu8h3izq",
        "outputId": "d7d4e969-002e-486b-adac-a1c8df08433a"
      },
      "outputs": [
        {
          "data": {
            "text/plain": [
              "array([[0.16344786],\n",
              "       [0.15938199],\n",
              "       [0.15917869],\n",
              "       ...,\n",
              "       [0.6391543 ],\n",
              "       [0.62614353],\n",
              "       [0.62268754]])"
            ]
          },
          "execution_count": 10,
          "metadata": {},
          "output_type": "execute_result"
        }
      ],
      "source": [
        "defn_high"
      ]
    },
    {
      "cell_type": "code",
      "execution_count": 11,
      "metadata": {
        "id": "o9_RaM0d3k8J"
      },
      "outputs": [],
      "source": [
        "trainsz = int(len(defn_high) * 0.75)\n",
        "testsz = len(defn_high) - trainsz\n",
        "traindata, testdata = defn_high[0:trainsz,:], defn_high[trainsz:len(defn_high),:1]\n"
      ]
    },
    {
      "cell_type": "code",
      "execution_count": 12,
      "metadata": {
        "colab": {
          "base_uri": "https://localhost:8080/"
        },
        "id": "Vh41X1ae3pd8",
        "outputId": "b29f8a55-bc28-45cf-da2f-36df2aab761b"
      },
      "outputs": [
        {
          "data": {
            "text/plain": [
              "(1526, 509)"
            ]
          },
          "execution_count": 12,
          "metadata": {},
          "output_type": "execute_result"
        }
      ],
      "source": [
        "trainsz,testsz"
      ]
    },
    {
      "cell_type": "code",
      "execution_count": 13,
      "metadata": {
        "id": "KN5f7QPb3qHI"
      },
      "outputs": [],
      "source": [
        "def create_dataset(dataset, tstep = 1):\n",
        "    dX, dY = [], []\n",
        "    for i in range(len(dataset) - tstep - 1):\n",
        "        v = dataset[i:(i+tstep), 0]\n",
        "        dX.append(v)\n",
        "        dY.append(dataset[i+tstep, 0])\n",
        "    return np.array(dX), np.array(dY)\n",
        "\n",
        "    \n",
        "tstep = 100\n",
        "xtrainer, ytrainer = create_dataset(traindata, tstep)\n",
        "xtester, ytester = create_dataset(testdata, tstep)"
      ]
    },
    {
      "cell_type": "code",
      "execution_count": 14,
      "metadata": {
        "colab": {
          "base_uri": "https://localhost:8080/"
        },
        "id": "OlEMYsTs3wc4",
        "outputId": "98750fe5-4b67-432a-ffd0-0fdb75e854bd"
      },
      "outputs": [
        {
          "name": "stdout",
          "output_type": "stream",
          "text": [
            "(1425, 100, 1)\n",
            "(1425,)\n"
          ]
        },
        {
          "data": {
            "text/plain": [
              "(None, None)"
            ]
          },
          "execution_count": 14,
          "metadata": {},
          "output_type": "execute_result"
        }
      ],
      "source": [
        "xtrainer = xtrainer.reshape(xtrainer.shape[0], xtrainer.shape[1], 1)\n",
        "xtester = xtester.reshape(xtester.shape[0], xtester.shape[1], 1)\n",
        "\n",
        "\n",
        "print(xtrainer.shape), print(ytrainer.shape)"
      ]
    },
    {
      "cell_type": "code",
      "execution_count": 15,
      "metadata": {
        "colab": {
          "base_uri": "https://localhost:8080/"
        },
        "id": "qouIyLaI3zun",
        "outputId": "1085669e-d9a7-4fb6-ee54-d8ff6fbad7e9"
      },
      "outputs": [
        {
          "name": "stdout",
          "output_type": "stream",
          "text": [
            "(408, 100, 1)\n",
            "(408,)\n"
          ]
        },
        {
          "data": {
            "text/plain": [
              "(None, None)"
            ]
          },
          "execution_count": 15,
          "metadata": {},
          "output_type": "execute_result"
        }
      ],
      "source": [
        "print(xtester.shape), print(ytester.shape)"
      ]
    },
    {
      "cell_type": "code",
      "execution_count": 16,
      "metadata": {
        "colab": {
          "base_uri": "https://localhost:8080/"
        },
        "id": "yAGJoN-W31f9",
        "outputId": "1695fda6-dc1c-4704-9ef9-15cf4218eff5"
      },
      "outputs": [
        {
          "name": "stdout",
          "output_type": "stream",
          "text": [
            "Model: \"sequential\"\n",
            "_________________________________________________________________\n",
            "Layer (type)                 Output Shape              Param #   \n",
            "=================================================================\n",
            "lstm (LSTM)                  (None, 100, 50)           10400     \n",
            "_________________________________________________________________\n",
            "lstm_1 (LSTM)                (None, 100, 50)           20200     \n",
            "_________________________________________________________________\n",
            "lstm_2 (LSTM)                (None, 50)                20200     \n",
            "_________________________________________________________________\n",
            "dense (Dense)                (None, 1)                 51        \n",
            "=================================================================\n",
            "Total params: 50,851\n",
            "Trainable params: 50,851\n",
            "Non-trainable params: 0\n",
            "_________________________________________________________________\n"
          ]
        }
      ],
      "source": [
        "mdl = Sequential()\n",
        "mdl.add(LSTM(50, return_sequences = True, input_shape = (100,1)))\n",
        "mdl.add(LSTM(50, return_sequences = True))\n",
        "mdl.add(LSTM(50))\n",
        "mdl.add(Dense(1))\n",
        "mdl.compile(loss = 'mean_squared_error', optimizer = 'adam')\n",
        "\n",
        "\n",
        "mdl.summary()"
      ]
    },
    {
      "cell_type": "code",
      "execution_count": 17,
      "metadata": {
        "colab": {
          "base_uri": "https://localhost:8080/"
        },
        "id": "QaMXmw7H4KTR",
        "outputId": "89850e6e-abb6-41ed-b9f3-e146bc063c23"
      },
      "outputs": [
        {
          "name": "stdout",
          "output_type": "stream",
          "text": [
            "Epoch 1/100\n",
            "23/23 [==============================] - 11s 218ms/step - loss: 0.0104 - val_loss: 0.0366\n",
            "Epoch 2/100\n",
            "23/23 [==============================] - 4s 173ms/step - loss: 0.0020 - val_loss: 0.0050\n",
            "Epoch 3/100\n",
            "23/23 [==============================] - 5s 234ms/step - loss: 8.3878e-04 - val_loss: 0.0029\n",
            "Epoch 4/100\n",
            "23/23 [==============================] - 5s 211ms/step - loss: 7.4686e-04 - val_loss: 0.0030\n",
            "Epoch 5/100\n",
            "23/23 [==============================] - 5s 199ms/step - loss: 7.2923e-04 - val_loss: 0.0027\n",
            "Epoch 6/100\n",
            "23/23 [==============================] - 5s 219ms/step - loss: 6.8409e-04 - val_loss: 0.0033\n",
            "Epoch 7/100\n",
            "23/23 [==============================] - 5s 215ms/step - loss: 6.5175e-04 - val_loss: 0.0030\n",
            "Epoch 8/100\n",
            "23/23 [==============================] - 4s 193ms/step - loss: 6.2454e-04 - val_loss: 0.0033\n",
            "Epoch 9/100\n",
            "23/23 [==============================] - 4s 191ms/step - loss: 6.1753e-04 - val_loss: 0.0028\n",
            "Epoch 10/100\n",
            "23/23 [==============================] - 4s 176ms/step - loss: 5.9414e-04 - val_loss: 0.0048\n",
            "Epoch 11/100\n",
            "23/23 [==============================] - 4s 179ms/step - loss: 5.5917e-04 - val_loss: 0.0059\n",
            "Epoch 12/100\n",
            "23/23 [==============================] - 4s 178ms/step - loss: 5.4130e-04 - val_loss: 0.0068\n",
            "Epoch 13/100\n",
            "23/23 [==============================] - 4s 178ms/step - loss: 5.4151e-04 - val_loss: 0.0036\n",
            "Epoch 14/100\n",
            "23/23 [==============================] - 4s 178ms/step - loss: 5.6148e-04 - val_loss: 0.0055\n",
            "Epoch 15/100\n",
            "23/23 [==============================] - 5s 198ms/step - loss: 5.1864e-04 - val_loss: 0.0070\n",
            "Epoch 16/100\n",
            "23/23 [==============================] - 4s 194ms/step - loss: 4.9845e-04 - val_loss: 0.0063\n",
            "Epoch 17/100\n",
            "23/23 [==============================] - 4s 186ms/step - loss: 4.9735e-04 - val_loss: 0.0053\n",
            "Epoch 18/100\n",
            "23/23 [==============================] - 4s 183ms/step - loss: 5.3268e-04 - val_loss: 0.0074\n",
            "Epoch 19/100\n",
            "23/23 [==============================] - 4s 188ms/step - loss: 5.0463e-04 - val_loss: 0.0078\n",
            "Epoch 20/100\n",
            "23/23 [==============================] - 4s 177ms/step - loss: 4.4937e-04 - val_loss: 0.0055\n",
            "Epoch 21/100\n",
            "23/23 [==============================] - 4s 179ms/step - loss: 4.3141e-04 - val_loss: 0.0101\n",
            "Epoch 22/100\n",
            "23/23 [==============================] - 4s 184ms/step - loss: 4.2756e-04 - val_loss: 0.0070\n",
            "Epoch 23/100\n",
            "23/23 [==============================] - 5s 205ms/step - loss: 4.2335e-04 - val_loss: 0.0079\n",
            "Epoch 24/100\n",
            "23/23 [==============================] - 5s 214ms/step - loss: 4.0979e-04 - val_loss: 0.0083\n",
            "Epoch 25/100\n",
            "23/23 [==============================] - 4s 186ms/step - loss: 4.1052e-04 - val_loss: 0.0068\n",
            "Epoch 26/100\n",
            "23/23 [==============================] - 4s 186ms/step - loss: 3.8435e-04 - val_loss: 0.0050\n",
            "Epoch 27/100\n",
            "23/23 [==============================] - 4s 182ms/step - loss: 3.7976e-04 - val_loss: 0.0064\n",
            "Epoch 28/100\n",
            "23/23 [==============================] - 4s 183ms/step - loss: 3.7982e-04 - val_loss: 0.0064\n",
            "Epoch 29/100\n",
            "23/23 [==============================] - 4s 184ms/step - loss: 4.2941e-04 - val_loss: 0.0050\n",
            "Epoch 30/100\n",
            "23/23 [==============================] - 4s 186ms/step - loss: 3.4532e-04 - val_loss: 0.0043\n",
            "Epoch 31/100\n",
            "23/23 [==============================] - 4s 185ms/step - loss: 3.4275e-04 - val_loss: 0.0053\n",
            "Epoch 32/100\n",
            "23/23 [==============================] - 4s 185ms/step - loss: 3.3677e-04 - val_loss: 0.0036\n",
            "Epoch 33/100\n",
            "23/23 [==============================] - 5s 202ms/step - loss: 3.1492e-04 - val_loss: 0.0020\n",
            "Epoch 34/100\n",
            "23/23 [==============================] - 6s 249ms/step - loss: 3.6313e-04 - val_loss: 0.0021\n",
            "Epoch 35/100\n",
            "23/23 [==============================] - 5s 230ms/step - loss: 3.8148e-04 - val_loss: 0.0060\n",
            "Epoch 36/100\n",
            "23/23 [==============================] - 5s 226ms/step - loss: 2.9610e-04 - val_loss: 0.0033\n",
            "Epoch 37/100\n",
            "23/23 [==============================] - 5s 235ms/step - loss: 2.8757e-04 - val_loss: 0.0029\n",
            "Epoch 38/100\n",
            "23/23 [==============================] - 5s 228ms/step - loss: 3.1292e-04 - val_loss: 0.0049\n",
            "Epoch 39/100\n",
            "23/23 [==============================] - 5s 225ms/step - loss: 2.9047e-04 - val_loss: 0.0025\n",
            "Epoch 40/100\n",
            "23/23 [==============================] - 5s 238ms/step - loss: 2.5989e-04 - val_loss: 0.0020\n",
            "Epoch 41/100\n",
            "23/23 [==============================] - 5s 206ms/step - loss: 2.6350e-04 - val_loss: 0.0026\n",
            "Epoch 42/100\n",
            "23/23 [==============================] - 5s 202ms/step - loss: 2.5051e-04 - val_loss: 0.0028\n",
            "Epoch 43/100\n",
            "23/23 [==============================] - 4s 195ms/step - loss: 2.4231e-04 - val_loss: 0.0013\n",
            "Epoch 44/100\n",
            "23/23 [==============================] - 5s 200ms/step - loss: 2.4162e-04 - val_loss: 9.5845e-04\n",
            "Epoch 45/100\n",
            "23/23 [==============================] - 5s 202ms/step - loss: 2.6972e-04 - val_loss: 6.6684e-04\n",
            "Epoch 46/100\n",
            "23/23 [==============================] - 5s 210ms/step - loss: 2.8098e-04 - val_loss: 0.0014\n",
            "Epoch 47/100\n",
            "23/23 [==============================] - 6s 256ms/step - loss: 2.1899e-04 - val_loss: 0.0018\n",
            "Epoch 48/100\n",
            "23/23 [==============================] - 6s 243ms/step - loss: 2.1698e-04 - val_loss: 0.0027\n",
            "Epoch 49/100\n",
            "23/23 [==============================] - 5s 200ms/step - loss: 2.1712e-04 - val_loss: 0.0021\n",
            "Epoch 50/100\n",
            "23/23 [==============================] - 4s 189ms/step - loss: 2.1657e-04 - val_loss: 5.6152e-04\n",
            "Epoch 51/100\n",
            "23/23 [==============================] - 5s 199ms/step - loss: 1.9502e-04 - val_loss: 0.0019\n",
            "Epoch 52/100\n",
            "23/23 [==============================] - 4s 189ms/step - loss: 1.8928e-04 - val_loss: 0.0015\n",
            "Epoch 53/100\n",
            "23/23 [==============================] - 4s 190ms/step - loss: 1.7891e-04 - val_loss: 0.0029\n",
            "Epoch 54/100\n",
            "23/23 [==============================] - 4s 192ms/step - loss: 1.7881e-04 - val_loss: 0.0025\n",
            "Epoch 55/100\n",
            "23/23 [==============================] - 4s 189ms/step - loss: 1.6772e-04 - val_loss: 0.0014\n",
            "Epoch 56/100\n",
            "23/23 [==============================] - 4s 190ms/step - loss: 1.6802e-04 - val_loss: 0.0014\n",
            "Epoch 57/100\n",
            "23/23 [==============================] - 4s 189ms/step - loss: 1.5903e-04 - val_loss: 0.0016\n",
            "Epoch 58/100\n",
            "23/23 [==============================] - 4s 187ms/step - loss: 1.5086e-04 - val_loss: 8.8828e-04\n",
            "Epoch 59/100\n",
            "23/23 [==============================] - 4s 191ms/step - loss: 1.5145e-04 - val_loss: 0.0018\n",
            "Epoch 60/100\n",
            "23/23 [==============================] - 4s 192ms/step - loss: 1.4231e-04 - val_loss: 0.0014\n",
            "Epoch 61/100\n",
            "23/23 [==============================] - 4s 178ms/step - loss: 1.3812e-04 - val_loss: 0.0014\n",
            "Epoch 62/100\n",
            "23/23 [==============================] - 4s 181ms/step - loss: 1.6156e-04 - val_loss: 0.0012\n",
            "Epoch 63/100\n",
            "23/23 [==============================] - 5s 200ms/step - loss: 1.4961e-04 - val_loss: 0.0013\n",
            "Epoch 64/100\n",
            "23/23 [==============================] - 4s 176ms/step - loss: 1.3517e-04 - val_loss: 9.6943e-04\n",
            "Epoch 65/100\n",
            "23/23 [==============================] - 4s 177ms/step - loss: 1.2874e-04 - val_loss: 0.0010\n",
            "Epoch 66/100\n",
            "23/23 [==============================] - 4s 177ms/step - loss: 1.3045e-04 - val_loss: 0.0029\n",
            "Epoch 67/100\n",
            "23/23 [==============================] - 4s 177ms/step - loss: 1.4628e-04 - val_loss: 9.7404e-04\n",
            "Epoch 68/100\n",
            "23/23 [==============================] - 4s 194ms/step - loss: 1.2256e-04 - val_loss: 8.6034e-04\n",
            "Epoch 69/100\n",
            "23/23 [==============================] - 4s 187ms/step - loss: 1.2125e-04 - val_loss: 0.0018\n",
            "Epoch 70/100\n",
            "23/23 [==============================] - 4s 174ms/step - loss: 1.3472e-04 - val_loss: 9.0699e-04\n",
            "Epoch 71/100\n",
            "23/23 [==============================] - 4s 174ms/step - loss: 1.1593e-04 - val_loss: 0.0010\n",
            "Epoch 72/100\n",
            "23/23 [==============================] - 4s 177ms/step - loss: 1.2663e-04 - val_loss: 8.2044e-04\n",
            "Epoch 73/100\n",
            "23/23 [==============================] - 4s 174ms/step - loss: 1.3284e-04 - val_loss: 7.4298e-04\n",
            "Epoch 74/100\n",
            "23/23 [==============================] - 4s 175ms/step - loss: 1.2645e-04 - val_loss: 0.0010\n",
            "Epoch 75/100\n",
            "23/23 [==============================] - 4s 175ms/step - loss: 1.1756e-04 - val_loss: 6.3780e-04\n",
            "Epoch 76/100\n",
            "23/23 [==============================] - 4s 176ms/step - loss: 1.2059e-04 - val_loss: 0.0012\n",
            "Epoch 77/100\n",
            "23/23 [==============================] - 4s 176ms/step - loss: 1.1472e-04 - val_loss: 4.9565e-04\n",
            "Epoch 78/100\n",
            "23/23 [==============================] - 4s 174ms/step - loss: 1.2240e-04 - val_loss: 5.4702e-04\n",
            "Epoch 79/100\n",
            "23/23 [==============================] - 4s 174ms/step - loss: 1.2501e-04 - val_loss: 0.0019\n",
            "Epoch 80/100\n",
            "23/23 [==============================] - 4s 176ms/step - loss: 1.3205e-04 - val_loss: 7.3413e-04\n",
            "Epoch 81/100\n",
            "23/23 [==============================] - 4s 175ms/step - loss: 1.1671e-04 - val_loss: 0.0016\n",
            "Epoch 82/100\n",
            "23/23 [==============================] - 4s 176ms/step - loss: 1.1617e-04 - val_loss: 5.9882e-04\n",
            "Epoch 83/100\n",
            "23/23 [==============================] - 5s 213ms/step - loss: 1.2174e-04 - val_loss: 0.0021\n",
            "Epoch 84/100\n",
            "23/23 [==============================] - 4s 187ms/step - loss: 1.2081e-04 - val_loss: 0.0012\n",
            "Epoch 85/100\n",
            "23/23 [==============================] - 5s 202ms/step - loss: 1.1686e-04 - val_loss: 9.1030e-04\n",
            "Epoch 86/100\n",
            "23/23 [==============================] - 5s 227ms/step - loss: 1.1436e-04 - val_loss: 6.7640e-04\n",
            "Epoch 87/100\n",
            "23/23 [==============================] - 5s 230ms/step - loss: 1.2187e-04 - val_loss: 0.0013\n",
            "Epoch 88/100\n",
            "23/23 [==============================] - 5s 207ms/step - loss: 1.1185e-04 - val_loss: 8.5742e-04\n",
            "Epoch 89/100\n",
            "23/23 [==============================] - 5s 214ms/step - loss: 1.2354e-04 - val_loss: 8.0542e-04\n",
            "Epoch 90/100\n",
            "23/23 [==============================] - 4s 193ms/step - loss: 1.1361e-04 - val_loss: 0.0013\n",
            "Epoch 91/100\n",
            "23/23 [==============================] - 5s 222ms/step - loss: 1.1934e-04 - val_loss: 7.5517e-04\n",
            "Epoch 92/100\n",
            "23/23 [==============================] - 5s 197ms/step - loss: 1.2347e-04 - val_loss: 0.0012\n",
            "Epoch 93/100\n",
            "23/23 [==============================] - 5s 210ms/step - loss: 1.1054e-04 - val_loss: 9.9196e-04\n",
            "Epoch 94/100\n",
            "23/23 [==============================] - 5s 221ms/step - loss: 1.3289e-04 - val_loss: 7.2120e-04\n",
            "Epoch 95/100\n",
            "23/23 [==============================] - 5s 204ms/step - loss: 1.3532e-04 - val_loss: 8.5249e-04\n",
            "Epoch 96/100\n",
            "23/23 [==============================] - 5s 203ms/step - loss: 1.1800e-04 - val_loss: 8.5735e-04\n",
            "Epoch 97/100\n",
            "23/23 [==============================] - 5s 196ms/step - loss: 1.0984e-04 - val_loss: 5.1674e-04\n",
            "Epoch 98/100\n",
            "23/23 [==============================] - 5s 198ms/step - loss: 1.0976e-04 - val_loss: 9.7751e-04\n",
            "Epoch 99/100\n",
            "23/23 [==============================] - 5s 199ms/step - loss: 1.1064e-04 - val_loss: 0.0017\n",
            "Epoch 100/100\n",
            "23/23 [==============================] - 5s 199ms/step - loss: 1.1318e-04 - val_loss: 0.0012\n"
          ]
        },
        {
          "data": {
            "text/plain": [
              "<tensorflow.python.keras.callbacks.History at 0x242334a1510>"
            ]
          },
          "execution_count": 17,
          "metadata": {},
          "output_type": "execute_result"
        }
      ],
      "source": [
        "mdl.fit(xtrainer, ytrainer, validation_data = (xtester, ytester), epochs = 100, batch_size = 64, verbose = 1)"
      ]
    },
    {
      "cell_type": "code",
      "execution_count": 18,
      "metadata": {
        "id": "M9H-ED474LY5"
      },
      "outputs": [],
      "source": [
        "trpd = mdl.predict(xtrainer)\n",
        "tpd = mdl.predict(xtester)\n"
      ]
    },
    {
      "cell_type": "code",
      "execution_count": 19,
      "metadata": {
        "id": "UJfYfdaH95T3"
      },
      "outputs": [],
      "source": [
        "trpd = sclr.inverse_transform(trpd)\n",
        "tpd = sclr.inverse_transform(tpd)"
      ]
    },
    {
      "cell_type": "code",
      "execution_count": 20,
      "metadata": {
        "colab": {
          "base_uri": "https://localhost:8080/"
        },
        "id": "3SL1sMvd4ggw",
        "outputId": "1ecdf176-864e-461e-8a3e-68d03f6d3e3a"
      },
      "outputs": [
        {
          "data": {
            "text/plain": [
              "135.94307170915332"
            ]
          },
          "execution_count": 20,
          "metadata": {},
          "output_type": "execute_result"
        }
      ],
      "source": [
        "math.sqrt(mean_squared_error(ytrainer, trpd))"
      ]
    },
    {
      "cell_type": "code",
      "execution_count": 21,
      "metadata": {
        "colab": {
          "base_uri": "https://localhost:8080/"
        },
        "id": "wmt83fVl4lfS",
        "outputId": "bfd2ce9e-baab-4dad-895e-b0fdbdf9cf11"
      },
      "outputs": [
        {
          "data": {
            "text/plain": [
              "226.61659080414276"
            ]
          },
          "execution_count": 21,
          "metadata": {},
          "output_type": "execute_result"
        }
      ],
      "source": [
        "math.sqrt(mean_squared_error(ytester, tpd))"
      ]
    },
    {
      "cell_type": "code",
      "execution_count": 22,
      "metadata": {
        "colab": {
          "base_uri": "https://localhost:8080/",
          "height": 320
        },
        "id": "g0aWHDgT4nd9",
        "outputId": "7631ca7a-5890-4424-81e3-e83cac12e58f"
      },
      "outputs": [
        {
          "data": {
            "image/png": "[encoded data removed]",
            "text/plain": [
              "<Figure size 432x288 with 1 Axes>"
            ]
          },
          "metadata": {
            "needs_background": "light"
          },
          "output_type": "display_data"
        },
        {
          "name": "stdout",
          "output_type": "stream",
          "text": [
            "Green indicates the predicted data\n",
            "Blue indicates the complete data\n",
            "Orange indicates the trained data\n"
          ]
        }
      ],
      "source": [
        "lb = 100\n",
        "trpdPlot = np.empty_like(defn_high)\n",
        "trpdPlot[:,:] = np.nan\n",
        "trpdPlot[lb:len(trpd) + lb, :] = trpd\n",
        "\n",
        "tpdPlot = np.empty_like(defn_high)\n",
        "tpdPlot[:,:] = np.nan\n",
        "tpdPlot[len(trpd) + (lb * 2)+1:len(defn_high) - 1, :] = tpd\n",
        "\n",
        "plt.plot(sclr.inverse_transform(defn_high))\n",
        "plt.plot(trpdPlot)\n",
        "plt.plot(tpdPlot)\n",
        "plt.show()\n",
        "\n",
        "print(\"Green indicates the predicted data\")\n",
        "print(\"Blue indicates the complete data\")\n",
        "print(\"Orange indicates the trained data\")"
      ]
    },
    {
      "cell_type": "code",
      "execution_count": 23,
      "metadata": {
        "colab": {
          "base_uri": "https://localhost:8080/"
        },
        "id": "vctgMXWK4p2A",
        "outputId": "7779a43a-36d1-4eec-ebd0-16f2d160e19f"
      },
      "outputs": [
        {
          "data": {
            "text/plain": [
              "(509, (408, 100, 1))"
            ]
          },
          "execution_count": 23,
          "metadata": {},
          "output_type": "execute_result"
        }
      ],
      "source": [
        "len(testdata), xtester.shape"
      ]
    },
    {
      "cell_type": "code",
      "execution_count": 24,
      "metadata": {
        "colab": {
          "base_uri": "https://localhost:8080/"
        },
        "id": "PtaljPjr48v2",
        "outputId": "6b44a666-d34a-46f6-8c4c-74fdb5b0fc1a"
      },
      "outputs": [
        {
          "data": {
            "text/plain": [
              "(1, 100)"
            ]
          },
          "execution_count": 24,
          "metadata": {},
          "output_type": "execute_result"
        }
      ],
      "source": [
        "xinput = testdata[409:].reshape(1,-1)\n",
        "xinput.shape"
      ]
    },
    {
      "cell_type": "code",
      "execution_count": 25,
      "metadata": {
        "colab": {
          "base_uri": "https://localhost:8080/"
        },
        "id": "aJfQji_X5AOz",
        "outputId": "6df131c4-b987-4446-e3fa-5f05cd1c3eac"
      },
      "outputs": [
        {
          "name": "stdout",
          "output_type": "stream",
          "text": [
            "[0.6015803]\n",
            "101\n",
            "1 day input [0.86013417 0.85464525 0.84448059 0.8072779  0.71843871 0.66192316\n",
            " 0.67696686 0.67554381 0.67310429 0.68428542 0.68936776 0.70217524\n",
            " 0.71803212 0.72941655 0.73144948 0.74486684 0.76926205 0.75991055\n",
            " 0.74242732 0.73958122 0.74771295 0.75991055 0.7584875  0.76621264\n",
            " 0.75462492 0.76316324 0.79670665 0.80585485 0.7889815  0.78003659\n",
            " 0.73978451 0.73002643 0.73490547 0.74872942 0.75991055 0.75462492\n",
            " 0.75401504 0.76174019 0.7737345  0.82008538 0.80585485 0.81154706\n",
            " 0.77434438 0.78633869 0.79284407 0.78328929 0.77109169 0.74385038\n",
            " 0.71193332 0.68733482 0.67818662 0.65257166 0.64301687 0.65643423\n",
            " 0.67656028 0.67371417 0.65114861 0.65521447 0.66761537 0.67838992\n",
            " 0.69993901 0.63122586 0.63508843 0.64098394 0.64545639 0.64118723\n",
            " 0.63854442 0.63081927 0.62472047 0.6330555  0.64728603 0.6574507\n",
            " 0.66761537 0.66720878 0.64159382 0.62776987 0.63651149 0.63630819\n",
            " 0.62980281 0.62817646 0.63813783 0.65358813 0.63183574 0.57653995\n",
            " 0.57816629 0.57613336 0.61943484 0.57979264 0.57288067 0.62573694\n",
            " 0.63102257 0.6361049  0.62776987 0.6269567  0.63590161 0.62594023\n",
            " 0.6391543  0.62614353 0.62268754 0.60158032]\n",
            "1 day output [[0.5663546]]\n",
            "2 day input [0.85464525 0.84448059 0.8072779  0.71843871 0.66192316 0.67696686\n",
            " 0.67554381 0.67310429 0.68428542 0.68936776 0.70217524 0.71803212\n",
            " 0.72941655 0.73144948 0.74486684 0.76926205 0.75991055 0.74242732\n",
            " 0.73958122 0.74771295 0.75991055 0.7584875  0.76621264 0.75462492\n",
            " 0.76316324 0.79670665 0.80585485 0.7889815  0.78003659 0.73978451\n",
            " 0.73002643 0.73490547 0.74872942 0.75991055 0.75462492 0.75401504\n",
            " 0.76174019 0.7737345  0.82008538 0.80585485 0.81154706 0.77434438\n",
            " 0.78633869 0.79284407 0.78328929 0.77109169 0.74385038 0.71193332\n",
            " 0.68733482 0.67818662 0.65257166 0.64301687 0.65643423 0.67656028\n",
            " 0.67371417 0.65114861 0.65521447 0.66761537 0.67838992 0.69993901\n",
            " 0.63122586 0.63508843 0.64098394 0.64545639 0.64118723 0.63854442\n",
            " 0.63081927 0.62472047 0.6330555  0.64728603 0.6574507  0.66761537\n",
            " 0.66720878 0.64159382 0.62776987 0.63651149 0.63630819 0.62980281\n",
            " 0.62817646 0.63813783 0.65358813 0.63183574 0.57653995 0.57816629\n",
            " 0.57613336 0.61943484 0.57979264 0.57288067 0.62573694 0.63102257\n",
            " 0.6361049  0.62776987 0.6269567  0.63590161 0.62594023 0.6391543\n",
            " 0.62614353 0.62268754 0.60158032 0.56635457]\n",
            "2 day output [[0.52791375]]\n",
            "3 day input [0.84448059 0.8072779  0.71843871 0.66192316 0.67696686 0.67554381\n",
            " 0.67310429 0.68428542 0.68936776 0.70217524 0.71803212 0.72941655\n",
            " 0.73144948 0.74486684 0.76926205 0.75991055 0.74242732 0.73958122\n",
            " 0.74771295 0.75991055 0.7584875  0.76621264 0.75462492 0.76316324\n",
            " 0.79670665 0.80585485 0.7889815  0.78003659 0.73978451 0.73002643\n",
            " 0.73490547 0.74872942 0.75991055 0.75462492 0.75401504 0.76174019\n",
            " 0.7737345  0.82008538 0.80585485 0.81154706 0.77434438 0.78633869\n",
            " 0.79284407 0.78328929 0.77109169 0.74385038 0.71193332 0.68733482\n",
            " 0.67818662 0.65257166 0.64301687 0.65643423 0.67656028 0.67371417\n",
            " 0.65114861 0.65521447 0.66761537 0.67838992 0.69993901 0.63122586\n",
            " 0.63508843 0.64098394 0.64545639 0.64118723 0.63854442 0.63081927\n",
            " 0.62472047 0.6330555  0.64728603 0.6574507  0.66761537 0.66720878\n",
            " 0.64159382 0.62776987 0.63651149 0.63630819 0.62980281 0.62817646\n",
            " 0.63813783 0.65358813 0.63183574 0.57653995 0.57816629 0.57613336\n",
            " 0.61943484 0.57979264 0.57288067 0.62573694 0.63102257 0.6361049\n",
            " 0.62776987 0.6269567  0.63590161 0.62594023 0.6391543  0.62614353\n",
            " 0.62268754 0.60158032 0.56635457 0.52791375]\n",
            "3 day output [[0.49319088]]\n",
            "4 day input [0.8072779  0.71843871 0.66192316 0.67696686 0.67554381 0.67310429\n",
            " 0.68428542 0.68936776 0.70217524 0.71803212 0.72941655 0.73144948\n",
            " 0.74486684 0.76926205 0.75991055 0.74242732 0.73958122 0.74771295\n",
            " 0.75991055 0.7584875  0.76621264 0.75462492 0.76316324 0.79670665\n",
            " 0.80585485 0.7889815  0.78003659 0.73978451 0.73002643 0.73490547\n",
            " 0.74872942 0.75991055 0.75462492 0.75401504 0.76174019 0.7737345\n",
            " 0.82008538 0.80585485 0.81154706 0.77434438 0.78633869 0.79284407\n",
            " 0.78328929 0.77109169 0.74385038 0.71193332 0.68733482 0.67818662\n",
            " 0.65257166 0.64301687 0.65643423 0.67656028 0.67371417 0.65114861\n",
            " 0.65521447 0.66761537 0.67838992 0.69993901 0.63122586 0.63508843\n",
            " 0.64098394 0.64545639 0.64118723 0.63854442 0.63081927 0.62472047\n",
            " 0.6330555  0.64728603 0.6574507  0.66761537 0.66720878 0.64159382\n",
            " 0.62776987 0.63651149 0.63630819 0.62980281 0.62817646 0.63813783\n",
            " 0.65358813 0.63183574 0.57653995 0.57816629 0.57613336 0.61943484\n",
            " 0.57979264 0.57288067 0.62573694 0.63102257 0.6361049  0.62776987\n",
            " 0.6269567  0.63590161 0.62594023 0.6391543  0.62614353 0.62268754\n",
            " 0.60158032 0.56635457 0.52791375 0.49319088]\n",
            "4 day output [[0.46311143]]\n",
            "5 day input [0.71843871 0.66192316 0.67696686 0.67554381 0.67310429 0.68428542\n",
            " 0.68936776 0.70217524 0.71803212 0.72941655 0.73144948 0.74486684\n",
            " 0.76926205 0.75991055 0.74242732 0.73958122 0.74771295 0.75991055\n",
            " 0.7584875  0.76621264 0.75462492 0.76316324 0.79670665 0.80585485\n",
            " 0.7889815  0.78003659 0.73978451 0.73002643 0.73490547 0.74872942\n",
            " 0.75991055 0.75462492 0.75401504 0.76174019 0.7737345  0.82008538\n",
            " 0.80585485 0.81154706 0.77434438 0.78633869 0.79284407 0.78328929\n",
            " 0.77109169 0.74385038 0.71193332 0.68733482 0.67818662 0.65257166\n",
            " 0.64301687 0.65643423 0.67656028 0.67371417 0.65114861 0.65521447\n",
            " 0.66761537 0.67838992 0.69993901 0.63122586 0.63508843 0.64098394\n",
            " 0.64545639 0.64118723 0.63854442 0.63081927 0.62472047 0.6330555\n",
            " 0.64728603 0.6574507  0.66761537 0.66720878 0.64159382 0.62776987\n",
            " 0.63651149 0.63630819 0.62980281 0.62817646 0.63813783 0.65358813\n",
            " 0.63183574 0.57653995 0.57816629 0.57613336 0.61943484 0.57979264\n",
            " 0.57288067 0.62573694 0.63102257 0.6361049  0.62776987 0.6269567\n",
            " 0.63590161 0.62594023 0.6391543  0.62614353 0.62268754 0.60158032\n",
            " 0.56635457 0.52791375 0.49319088 0.46311143]\n",
            "5 day output [[0.4377484]]\n",
            "6 day input [0.66192316 0.67696686 0.67554381 0.67310429 0.68428542 0.68936776\n",
            " 0.70217524 0.71803212 0.72941655 0.73144948 0.74486684 0.76926205\n",
            " 0.75991055 0.74242732 0.73958122 0.74771295 0.75991055 0.7584875\n",
            " 0.76621264 0.75462492 0.76316324 0.79670665 0.80585485 0.7889815\n",
            " 0.78003659 0.73978451 0.73002643 0.73490547 0.74872942 0.75991055\n",
            " 0.75462492 0.75401504 0.76174019 0.7737345  0.82008538 0.80585485\n",
            " 0.81154706 0.77434438 0.78633869 0.79284407 0.78328929 0.77109169\n",
            " 0.74385038 0.71193332 0.68733482 0.67818662 0.65257166 0.64301687\n",
            " 0.65643423 0.67656028 0.67371417 0.65114861 0.65521447 0.66761537\n",
            " 0.67838992 0.69993901 0.63122586 0.63508843 0.64098394 0.64545639\n",
            " 0.64118723 0.63854442 0.63081927 0.62472047 0.6330555  0.64728603\n",
            " 0.6574507  0.66761537 0.66720878 0.64159382 0.62776987 0.63651149\n",
            " 0.63630819 0.62980281 0.62817646 0.63813783 0.65358813 0.63183574\n",
            " 0.57653995 0.57816629 0.57613336 0.61943484 0.57979264 0.57288067\n",
            " 0.62573694 0.63102257 0.6361049  0.62776987 0.6269567  0.63590161\n",
            " 0.62594023 0.6391543  0.62614353 0.62268754 0.60158032 0.56635457\n",
            " 0.52791375 0.49319088 0.46311143 0.4377484 ]\n",
            "6 day output [[0.41683662]]\n",
            "7 day input [0.67696686 0.67554381 0.67310429 0.68428542 0.68936776 0.70217524\n",
            " 0.71803212 0.72941655 0.73144948 0.74486684 0.76926205 0.75991055\n",
            " 0.74242732 0.73958122 0.74771295 0.75991055 0.7584875  0.76621264\n",
            " 0.75462492 0.76316324 0.79670665 0.80585485 0.7889815  0.78003659\n",
            " 0.73978451 0.73002643 0.73490547 0.74872942 0.75991055 0.75462492\n",
            " 0.75401504 0.76174019 0.7737345  0.82008538 0.80585485 0.81154706\n",
            " 0.77434438 0.78633869 0.79284407 0.78328929 0.77109169 0.74385038\n",
            " 0.71193332 0.68733482 0.67818662 0.65257166 0.64301687 0.65643423\n",
            " 0.67656028 0.67371417 0.65114861 0.65521447 0.66761537 0.67838992\n",
            " 0.69993901 0.63122586 0.63508843 0.64098394 0.64545639 0.64118723\n",
            " 0.63854442 0.63081927 0.62472047 0.6330555  0.64728603 0.6574507\n",
            " 0.66761537 0.66720878 0.64159382 0.62776987 0.63651149 0.63630819\n",
            " 0.62980281 0.62817646 0.63813783 0.65358813 0.63183574 0.57653995\n",
            " 0.57816629 0.57613336 0.61943484 0.57979264 0.57288067 0.62573694\n",
            " 0.63102257 0.6361049  0.62776987 0.6269567  0.63590161 0.62594023\n",
            " 0.6391543  0.62614353 0.62268754 0.60158032 0.56635457 0.52791375\n",
            " 0.49319088 0.46311143 0.4377484  0.41683662]\n",
            "7 day output [[0.3992239]]\n",
            "8 day input [0.67554381 0.67310429 0.68428542 0.68936776 0.70217524 0.71803212\n",
            " 0.72941655 0.73144948 0.74486684 0.76926205 0.75991055 0.74242732\n",
            " 0.73958122 0.74771295 0.75991055 0.7584875  0.76621264 0.75462492\n",
            " 0.76316324 0.79670665 0.80585485 0.7889815  0.78003659 0.73978451\n",
            " 0.73002643 0.73490547 0.74872942 0.75991055 0.75462492 0.75401504\n",
            " 0.76174019 0.7737345  0.82008538 0.80585485 0.81154706 0.77434438\n",
            " 0.78633869 0.79284407 0.78328929 0.77109169 0.74385038 0.71193332\n",
            " 0.68733482 0.67818662 0.65257166 0.64301687 0.65643423 0.67656028\n",
            " 0.67371417 0.65114861 0.65521447 0.66761537 0.67838992 0.69993901\n",
            " 0.63122586 0.63508843 0.64098394 0.64545639 0.64118723 0.63854442\n",
            " 0.63081927 0.62472047 0.6330555  0.64728603 0.6574507  0.66761537\n",
            " 0.66720878 0.64159382 0.62776987 0.63651149 0.63630819 0.62980281\n",
            " 0.62817646 0.63813783 0.65358813 0.63183574 0.57653995 0.57816629\n",
            " 0.57613336 0.61943484 0.57979264 0.57288067 0.62573694 0.63102257\n",
            " 0.6361049  0.62776987 0.6269567  0.63590161 0.62594023 0.6391543\n",
            " 0.62614353 0.62268754 0.60158032 0.56635457 0.52791375 0.49319088\n",
            " 0.46311143 0.4377484  0.41683662 0.39922389]\n",
            "8 day output [[0.3853323]]\n",
            "9 day input [0.67310429 0.68428542 0.68936776 0.70217524 0.71803212 0.72941655\n",
            " 0.73144948 0.74486684 0.76926205 0.75991055 0.74242732 0.73958122\n",
            " 0.74771295 0.75991055 0.7584875  0.76621264 0.75462492 0.76316324\n",
            " 0.79670665 0.80585485 0.7889815  0.78003659 0.73978451 0.73002643\n",
            " 0.73490547 0.74872942 0.75991055 0.75462492 0.75401504 0.76174019\n",
            " 0.7737345  0.82008538 0.80585485 0.81154706 0.77434438 0.78633869\n",
            " 0.79284407 0.78328929 0.77109169 0.74385038 0.71193332 0.68733482\n",
            " 0.67818662 0.65257166 0.64301687 0.65643423 0.67656028 0.67371417\n",
            " 0.65114861 0.65521447 0.66761537 0.67838992 0.69993901 0.63122586\n",
            " 0.63508843 0.64098394 0.64545639 0.64118723 0.63854442 0.63081927\n",
            " 0.62472047 0.6330555  0.64728603 0.6574507  0.66761537 0.66720878\n",
            " 0.64159382 0.62776987 0.63651149 0.63630819 0.62980281 0.62817646\n",
            " 0.63813783 0.65358813 0.63183574 0.57653995 0.57816629 0.57613336\n",
            " 0.61943484 0.57979264 0.57288067 0.62573694 0.63102257 0.6361049\n",
            " 0.62776987 0.6269567  0.63590161 0.62594023 0.6391543  0.62614353\n",
            " 0.62268754 0.60158032 0.56635457 0.52791375 0.49319088 0.46311143\n",
            " 0.4377484  0.41683662 0.39922389 0.38533229]\n",
            "9 day output [[0.37471855]]\n",
            "10 day input [0.68428542 0.68936776 0.70217524 0.71803212 0.72941655 0.73144948\n",
            " 0.74486684 0.76926205 0.75991055 0.74242732 0.73958122 0.74771295\n",
            " 0.75991055 0.7584875  0.76621264 0.75462492 0.76316324 0.79670665\n",
            " 0.80585485 0.7889815  0.78003659 0.73978451 0.73002643 0.73490547\n",
            " 0.74872942 0.75991055 0.75462492 0.75401504 0.76174019 0.7737345\n",
            " 0.82008538 0.80585485 0.81154706 0.77434438 0.78633869 0.79284407\n",
            " 0.78328929 0.77109169 0.74385038 0.71193332 0.68733482 0.67818662\n",
            " 0.65257166 0.64301687 0.65643423 0.67656028 0.67371417 0.65114861\n",
            " 0.65521447 0.66761537 0.67838992 0.69993901 0.63122586 0.63508843\n",
            " 0.64098394 0.64545639 0.64118723 0.63854442 0.63081927 0.62472047\n",
            " 0.6330555  0.64728603 0.6574507  0.66761537 0.66720878 0.64159382\n",
            " 0.62776987 0.63651149 0.63630819 0.62980281 0.62817646 0.63813783\n",
            " 0.65358813 0.63183574 0.57653995 0.57816629 0.57613336 0.61943484\n",
            " 0.57979264 0.57288067 0.62573694 0.63102257 0.6361049  0.62776987\n",
            " 0.6269567  0.63590161 0.62594023 0.6391543  0.62614353 0.62268754\n",
            " 0.60158032 0.56635457 0.52791375 0.49319088 0.46311143 0.4377484\n",
            " 0.41683662 0.39922389 0.38533229 0.37471855]\n",
            "10 day output [[0.36661595]]\n",
            "11 day input [0.68936776 0.70217524 0.71803212 0.72941655 0.73144948 0.74486684\n",
            " 0.76926205 0.75991055 0.74242732 0.73958122 0.74771295 0.75991055\n",
            " 0.7584875  0.76621264 0.75462492 0.76316324 0.79670665 0.80585485\n",
            " 0.7889815  0.78003659 0.73978451 0.73002643 0.73490547 0.74872942\n",
            " 0.75991055 0.75462492 0.75401504 0.76174019 0.7737345  0.82008538\n",
            " 0.80585485 0.81154706 0.77434438 0.78633869 0.79284407 0.78328929\n",
            " 0.77109169 0.74385038 0.71193332 0.68733482 0.67818662 0.65257166\n",
            " 0.64301687 0.65643423 0.67656028 0.67371417 0.65114861 0.65521447\n",
            " 0.66761537 0.67838992 0.69993901 0.63122586 0.63508843 0.64098394\n",
            " 0.64545639 0.64118723 0.63854442 0.63081927 0.62472047 0.6330555\n",
            " 0.64728603 0.6574507  0.66761537 0.66720878 0.64159382 0.62776987\n",
            " 0.63651149 0.63630819 0.62980281 0.62817646 0.63813783 0.65358813\n",
            " 0.63183574 0.57653995 0.57816629 0.57613336 0.61943484 0.57979264\n",
            " 0.57288067 0.62573694 0.63102257 0.6361049  0.62776987 0.6269567\n",
            " 0.63590161 0.62594023 0.6391543  0.62614353 0.62268754 0.60158032\n",
            " 0.56635457 0.52791375 0.49319088 0.46311143 0.4377484  0.41683662\n",
            " 0.39922389 0.38533229 0.37471855 0.36661595]\n",
            "11 day output [[0.36025995]]\n",
            "12 day input [0.70217524 0.71803212 0.72941655 0.73144948 0.74486684 0.76926205\n",
            " 0.75991055 0.74242732 0.73958122 0.74771295 0.75991055 0.7584875\n",
            " 0.76621264 0.75462492 0.76316324 0.79670665 0.80585485 0.7889815\n",
            " 0.78003659 0.73978451 0.73002643 0.73490547 0.74872942 0.75991055\n",
            " 0.75462492 0.75401504 0.76174019 0.7737345  0.82008538 0.80585485\n",
            " 0.81154706 0.77434438 0.78633869 0.79284407 0.78328929 0.77109169\n",
            " 0.74385038 0.71193332 0.68733482 0.67818662 0.65257166 0.64301687\n",
            " 0.65643423 0.67656028 0.67371417 0.65114861 0.65521447 0.66761537\n",
            " 0.67838992 0.69993901 0.63122586 0.63508843 0.64098394 0.64545639\n",
            " 0.64118723 0.63854442 0.63081927 0.62472047 0.6330555  0.64728603\n",
            " 0.6574507  0.66761537 0.66720878 0.64159382 0.62776987 0.63651149\n",
            " 0.63630819 0.62980281 0.62817646 0.63813783 0.65358813 0.63183574\n",
            " 0.57653995 0.57816629 0.57613336 0.61943484 0.57979264 0.57288067\n",
            " 0.62573694 0.63102257 0.6361049  0.62776987 0.6269567  0.63590161\n",
            " 0.62594023 0.6391543  0.62614353 0.62268754 0.60158032 0.56635457\n",
            " 0.52791375 0.49319088 0.46311143 0.4377484  0.41683662 0.39922389\n",
            " 0.38533229 0.37471855 0.36661595 0.36025995]\n",
            "12 day output [[0.3551004]]\n",
            "13 day input [0.71803212 0.72941655 0.73144948 0.74486684 0.76926205 0.75991055\n",
            " 0.74242732 0.73958122 0.74771295 0.75991055 0.7584875  0.76621264\n",
            " 0.75462492 0.76316324 0.79670665 0.80585485 0.7889815  0.78003659\n",
            " 0.73978451 0.73002643 0.73490547 0.74872942 0.75991055 0.75462492\n",
            " 0.75401504 0.76174019 0.7737345  0.82008538 0.80585485 0.81154706\n",
            " 0.77434438 0.78633869 0.79284407 0.78328929 0.77109169 0.74385038\n",
            " 0.71193332 0.68733482 0.67818662 0.65257166 0.64301687 0.65643423\n",
            " 0.67656028 0.67371417 0.65114861 0.65521447 0.66761537 0.67838992\n",
            " 0.69993901 0.63122586 0.63508843 0.64098394 0.64545639 0.64118723\n",
            " 0.63854442 0.63081927 0.62472047 0.6330555  0.64728603 0.6574507\n",
            " 0.66761537 0.66720878 0.64159382 0.62776987 0.63651149 0.63630819\n",
            " 0.62980281 0.62817646 0.63813783 0.65358813 0.63183574 0.57653995\n",
            " 0.57816629 0.57613336 0.61943484 0.57979264 0.57288067 0.62573694\n",
            " 0.63102257 0.6361049  0.62776987 0.6269567  0.63590161 0.62594023\n",
            " 0.6391543  0.62614353 0.62268754 0.60158032 0.56635457 0.52791375\n",
            " 0.49319088 0.46311143 0.4377484  0.41683662 0.39922389 0.38533229\n",
            " 0.37471855 0.36661595 0.36025995 0.35510039]\n",
            "13 day output [[0.35072252]]\n",
            "14 day input [0.72941655 0.73144948 0.74486684 0.76926205 0.75991055 0.74242732\n",
            " 0.73958122 0.74771295 0.75991055 0.7584875  0.76621264 0.75462492\n",
            " 0.76316324 0.79670665 0.80585485 0.7889815  0.78003659 0.73978451\n",
            " 0.73002643 0.73490547 0.74872942 0.75991055 0.75462492 0.75401504\n",
            " 0.76174019 0.7737345  0.82008538 0.80585485 0.81154706 0.77434438\n",
            " 0.78633869 0.79284407 0.78328929 0.77109169 0.74385038 0.71193332\n",
            " 0.68733482 0.67818662 0.65257166 0.64301687 0.65643423 0.67656028\n",
            " 0.67371417 0.65114861 0.65521447 0.66761537 0.67838992 0.69993901\n",
            " 0.63122586 0.63508843 0.64098394 0.64545639 0.64118723 0.63854442\n",
            " 0.63081927 0.62472047 0.6330555  0.64728603 0.6574507  0.66761537\n",
            " 0.66720878 0.64159382 0.62776987 0.63651149 0.63630819 0.62980281\n",
            " 0.62817646 0.63813783 0.65358813 0.63183574 0.57653995 0.57816629\n",
            " 0.57613336 0.61943484 0.57979264 0.57288067 0.62573694 0.63102257\n",
            " 0.6361049  0.62776987 0.6269567  0.63590161 0.62594023 0.6391543\n",
            " 0.62614353 0.62268754 0.60158032 0.56635457 0.52791375 0.49319088\n",
            " 0.46311143 0.4377484  0.41683662 0.39922389 0.38533229 0.37471855\n",
            " 0.36661595 0.36025995 0.35510039 0.35072252]\n",
            "14 day output [[0.3468596]]\n",
            "15 day input [0.73144948 0.74486684 0.76926205 0.75991055 0.74242732 0.73958122\n",
            " 0.74771295 0.75991055 0.7584875  0.76621264 0.75462492 0.76316324\n",
            " 0.79670665 0.80585485 0.7889815  0.78003659 0.73978451 0.73002643\n",
            " 0.73490547 0.74872942 0.75991055 0.75462492 0.75401504 0.76174019\n",
            " 0.7737345  0.82008538 0.80585485 0.81154706 0.77434438 0.78633869\n",
            " 0.79284407 0.78328929 0.77109169 0.74385038 0.71193332 0.68733482\n",
            " 0.67818662 0.65257166 0.64301687 0.65643423 0.67656028 0.67371417\n",
            " 0.65114861 0.65521447 0.66761537 0.67838992 0.69993901 0.63122586\n",
            " 0.63508843 0.64098394 0.64545639 0.64118723 0.63854442 0.63081927\n",
            " 0.62472047 0.6330555  0.64728603 0.6574507  0.66761537 0.66720878\n",
            " 0.64159382 0.62776987 0.63651149 0.63630819 0.62980281 0.62817646\n",
            " 0.63813783 0.65358813 0.63183574 0.57653995 0.57816629 0.57613336\n",
            " 0.61943484 0.57979264 0.57288067 0.62573694 0.63102257 0.6361049\n",
            " 0.62776987 0.6269567  0.63590161 0.62594023 0.6391543  0.62614353\n",
            " 0.62268754 0.60158032 0.56635457 0.52791375 0.49319088 0.46311143\n",
            " 0.4377484  0.41683662 0.39922389 0.38533229 0.37471855 0.36661595\n",
            " 0.36025995 0.35510039 0.35072252 0.3468596 ]\n",
            "15 day output [[0.34341952]]\n",
            "16 day input [0.74486684 0.76926205 0.75991055 0.74242732 0.73958122 0.74771295\n",
            " 0.75991055 0.7584875  0.76621264 0.75462492 0.76316324 0.79670665\n",
            " 0.80585485 0.7889815  0.78003659 0.73978451 0.73002643 0.73490547\n",
            " 0.74872942 0.75991055 0.75462492 0.75401504 0.76174019 0.7737345\n",
            " 0.82008538 0.80585485 0.81154706 0.77434438 0.78633869 0.79284407\n",
            " 0.78328929 0.77109169 0.74385038 0.71193332 0.68733482 0.67818662\n",
            " 0.65257166 0.64301687 0.65643423 0.67656028 0.67371417 0.65114861\n",
            " 0.65521447 0.66761537 0.67838992 0.69993901 0.63122586 0.63508843\n",
            " 0.64098394 0.64545639 0.64118723 0.63854442 0.63081927 0.62472047\n",
            " 0.6330555  0.64728603 0.6574507  0.66761537 0.66720878 0.64159382\n",
            " 0.62776987 0.63651149 0.63630819 0.62980281 0.62817646 0.63813783\n",
            " 0.65358813 0.63183574 0.57653995 0.57816629 0.57613336 0.61943484\n",
            " 0.57979264 0.57288067 0.62573694 0.63102257 0.6361049  0.62776987\n",
            " 0.6269567  0.63590161 0.62594023 0.6391543  0.62614353 0.62268754\n",
            " 0.60158032 0.56635457 0.52791375 0.49319088 0.46311143 0.4377484\n",
            " 0.41683662 0.39922389 0.38533229 0.37471855 0.36661595 0.36025995\n",
            " 0.35510039 0.35072252 0.3468596  0.34341952]\n",
            "16 day output [[0.34030575]]\n",
            "17 day input [0.76926205 0.75991055 0.74242732 0.73958122 0.74771295 0.75991055\n",
            " 0.7584875  0.76621264 0.75462492 0.76316324 0.79670665 0.80585485\n",
            " 0.7889815  0.78003659 0.73978451 0.73002643 0.73490547 0.74872942\n",
            " 0.75991055 0.75462492 0.75401504 0.76174019 0.7737345  0.82008538\n",
            " 0.80585485 0.81154706 0.77434438 0.78633869 0.79284407 0.78328929\n",
            " 0.77109169 0.74385038 0.71193332 0.68733482 0.67818662 0.65257166\n",
            " 0.64301687 0.65643423 0.67656028 0.67371417 0.65114861 0.65521447\n",
            " 0.66761537 0.67838992 0.69993901 0.63122586 0.63508843 0.64098394\n",
            " 0.64545639 0.64118723 0.63854442 0.63081927 0.62472047 0.6330555\n",
            " 0.64728603 0.6574507  0.66761537 0.66720878 0.64159382 0.62776987\n",
            " 0.63651149 0.63630819 0.62980281 0.62817646 0.63813783 0.65358813\n",
            " 0.63183574 0.57653995 0.57816629 0.57613336 0.61943484 0.57979264\n",
            " 0.57288067 0.62573694 0.63102257 0.6361049  0.62776987 0.6269567\n",
            " 0.63590161 0.62594023 0.6391543  0.62614353 0.62268754 0.60158032\n",
            " 0.56635457 0.52791375 0.49319088 0.46311143 0.4377484  0.41683662\n",
            " 0.39922389 0.38533229 0.37471855 0.36661595 0.36025995 0.35510039\n",
            " 0.35072252 0.3468596  0.34341952 0.34030575]\n",
            "17 day output [[0.33745062]]\n",
            "18 day input [0.75991055 0.74242732 0.73958122 0.74771295 0.75991055 0.7584875\n",
            " 0.76621264 0.75462492 0.76316324 0.79670665 0.80585485 0.7889815\n",
            " 0.78003659 0.73978451 0.73002643 0.73490547 0.74872942 0.75991055\n",
            " 0.75462492 0.75401504 0.76174019 0.7737345  0.82008538 0.80585485\n",
            " 0.81154706 0.77434438 0.78633869 0.79284407 0.78328929 0.77109169\n",
            " 0.74385038 0.71193332 0.68733482 0.67818662 0.65257166 0.64301687\n",
            " 0.65643423 0.67656028 0.67371417 0.65114861 0.65521447 0.66761537\n",
            " 0.67838992 0.69993901 0.63122586 0.63508843 0.64098394 0.64545639\n",
            " 0.64118723 0.63854442 0.63081927 0.62472047 0.6330555  0.64728603\n",
            " 0.6574507  0.66761537 0.66720878 0.64159382 0.62776987 0.63651149\n",
            " 0.63630819 0.62980281 0.62817646 0.63813783 0.65358813 0.63183574\n",
            " 0.57653995 0.57816629 0.57613336 0.61943484 0.57979264 0.57288067\n",
            " 0.62573694 0.63102257 0.6361049  0.62776987 0.6269567  0.63590161\n",
            " 0.62594023 0.6391543  0.62614353 0.62268754 0.60158032 0.56635457\n",
            " 0.52791375 0.49319088 0.46311143 0.4377484  0.41683662 0.39922389\n",
            " 0.38533229 0.37471855 0.36661595 0.36025995 0.35510039 0.35072252\n",
            " 0.3468596  0.34341952 0.34030575 0.33745062]\n",
            "18 day output [[0.3348152]]\n",
            "19 day input [0.74242732 0.73958122 0.74771295 0.75991055 0.7584875  0.76621264\n",
            " 0.75462492 0.76316324 0.79670665 0.80585485 0.7889815  0.78003659\n",
            " 0.73978451 0.73002643 0.73490547 0.74872942 0.75991055 0.75462492\n",
            " 0.75401504 0.76174019 0.7737345  0.82008538 0.80585485 0.81154706\n",
            " 0.77434438 0.78633869 0.79284407 0.78328929 0.77109169 0.74385038\n",
            " 0.71193332 0.68733482 0.67818662 0.65257166 0.64301687 0.65643423\n",
            " 0.67656028 0.67371417 0.65114861 0.65521447 0.66761537 0.67838992\n",
            " 0.69993901 0.63122586 0.63508843 0.64098394 0.64545639 0.64118723\n",
            " 0.63854442 0.63081927 0.62472047 0.6330555  0.64728603 0.6574507\n",
            " 0.66761537 0.66720878 0.64159382 0.62776987 0.63651149 0.63630819\n",
            " 0.62980281 0.62817646 0.63813783 0.65358813 0.63183574 0.57653995\n",
            " 0.57816629 0.57613336 0.61943484 0.57979264 0.57288067 0.62573694\n",
            " 0.63102257 0.6361049  0.62776987 0.6269567  0.63590161 0.62594023\n",
            " 0.6391543  0.62614353 0.62268754 0.60158032 0.56635457 0.52791375\n",
            " 0.49319088 0.46311143 0.4377484  0.41683662 0.39922389 0.38533229\n",
            " 0.37471855 0.36661595 0.36025995 0.35510039 0.35072252 0.3468596\n",
            " 0.34341952 0.34030575 0.33745062 0.3348152 ]\n",
            "19 day output [[0.3323801]]\n",
            "20 day input [0.73958122 0.74771295 0.75991055 0.7584875  0.76621264 0.75462492\n",
            " 0.76316324 0.79670665 0.80585485 0.7889815  0.78003659 0.73978451\n",
            " 0.73002643 0.73490547 0.74872942 0.75991055 0.75462492 0.75401504\n",
            " 0.76174019 0.7737345  0.82008538 0.80585485 0.81154706 0.77434438\n",
            " 0.78633869 0.79284407 0.78328929 0.77109169 0.74385038 0.71193332\n",
            " 0.68733482 0.67818662 0.65257166 0.64301687 0.65643423 0.67656028\n",
            " 0.67371417 0.65114861 0.65521447 0.66761537 0.67838992 0.69993901\n",
            " 0.63122586 0.63508843 0.64098394 0.64545639 0.64118723 0.63854442\n",
            " 0.63081927 0.62472047 0.6330555  0.64728603 0.6574507  0.66761537\n",
            " 0.66720878 0.64159382 0.62776987 0.63651149 0.63630819 0.62980281\n",
            " 0.62817646 0.63813783 0.65358813 0.63183574 0.57653995 0.57816629\n",
            " 0.57613336 0.61943484 0.57979264 0.57288067 0.62573694 0.63102257\n",
            " 0.6361049  0.62776987 0.6269567  0.63590161 0.62594023 0.6391543\n",
            " 0.62614353 0.62268754 0.60158032 0.56635457 0.52791375 0.49319088\n",
            " 0.46311143 0.4377484  0.41683662 0.39922389 0.38533229 0.37471855\n",
            " 0.36661595 0.36025995 0.35510039 0.35072252 0.3468596  0.34341952\n",
            " 0.34030575 0.33745062 0.3348152  0.33238009]\n",
            "20 day output [[0.33013657]]\n",
            "21 day input [0.74771295 0.75991055 0.7584875  0.76621264 0.75462492 0.76316324\n",
            " 0.79670665 0.80585485 0.7889815  0.78003659 0.73978451 0.73002643\n",
            " 0.73490547 0.74872942 0.75991055 0.75462492 0.75401504 0.76174019\n",
            " 0.7737345  0.82008538 0.80585485 0.81154706 0.77434438 0.78633869\n",
            " 0.79284407 0.78328929 0.77109169 0.74385038 0.71193332 0.68733482\n",
            " 0.67818662 0.65257166 0.64301687 0.65643423 0.67656028 0.67371417\n",
            " 0.65114861 0.65521447 0.66761537 0.67838992 0.69993901 0.63122586\n",
            " 0.63508843 0.64098394 0.64545639 0.64118723 0.63854442 0.63081927\n",
            " 0.62472047 0.6330555  0.64728603 0.6574507  0.66761537 0.66720878\n",
            " 0.64159382 0.62776987 0.63651149 0.63630819 0.62980281 0.62817646\n",
            " 0.63813783 0.65358813 0.63183574 0.57653995 0.57816629 0.57613336\n",
            " 0.61943484 0.57979264 0.57288067 0.62573694 0.63102257 0.6361049\n",
            " 0.62776987 0.6269567  0.63590161 0.62594023 0.6391543  0.62614353\n",
            " 0.62268754 0.60158032 0.56635457 0.52791375 0.49319088 0.46311143\n",
            " 0.4377484  0.41683662 0.39922389 0.38533229 0.37471855 0.36661595\n",
            " 0.36025995 0.35510039 0.35072252 0.3468596  0.34341952 0.34030575\n",
            " 0.33745062 0.3348152  0.33238009 0.33013657]\n",
            "21 day output [[0.32808062]]\n",
            "22 day input [0.75991055 0.7584875  0.76621264 0.75462492 0.76316324 0.79670665\n",
            " 0.80585485 0.7889815  0.78003659 0.73978451 0.73002643 0.73490547\n",
            " 0.74872942 0.75991055 0.75462492 0.75401504 0.76174019 0.7737345\n",
            " 0.82008538 0.80585485 0.81154706 0.77434438 0.78633869 0.79284407\n",
            " 0.78328929 0.77109169 0.74385038 0.71193332 0.68733482 0.67818662\n",
            " 0.65257166 0.64301687 0.65643423 0.67656028 0.67371417 0.65114861\n",
            " 0.65521447 0.66761537 0.67838992 0.69993901 0.63122586 0.63508843\n",
            " 0.64098394 0.64545639 0.64118723 0.63854442 0.63081927 0.62472047\n",
            " 0.6330555  0.64728603 0.6574507  0.66761537 0.66720878 0.64159382\n",
            " 0.62776987 0.63651149 0.63630819 0.62980281 0.62817646 0.63813783\n",
            " 0.65358813 0.63183574 0.57653995 0.57816629 0.57613336 0.61943484\n",
            " 0.57979264 0.57288067 0.62573694 0.63102257 0.6361049  0.62776987\n",
            " 0.6269567  0.63590161 0.62594023 0.6391543  0.62614353 0.62268754\n",
            " 0.60158032 0.56635457 0.52791375 0.49319088 0.46311143 0.4377484\n",
            " 0.41683662 0.39922389 0.38533229 0.37471855 0.36661595 0.36025995\n",
            " 0.35510039 0.35072252 0.3468596  0.34341952 0.34030575 0.33745062\n",
            " 0.3348152  0.33238009 0.33013657 0.32808062]\n",
            "22 day output [[0.32620785]]\n",
            "23 day input [0.7584875  0.76621264 0.75462492 0.76316324 0.79670665 0.80585485\n",
            " 0.7889815  0.78003659 0.73978451 0.73002643 0.73490547 0.74872942\n",
            " 0.75991055 0.75462492 0.75401504 0.76174019 0.7737345  0.82008538\n",
            " 0.80585485 0.81154706 0.77434438 0.78633869 0.79284407 0.78328929\n",
            " 0.77109169 0.74385038 0.71193332 0.68733482 0.67818662 0.65257166\n",
            " 0.64301687 0.65643423 0.67656028 0.67371417 0.65114861 0.65521447\n",
            " 0.66761537 0.67838992 0.69993901 0.63122586 0.63508843 0.64098394\n",
            " 0.64545639 0.64118723 0.63854442 0.63081927 0.62472047 0.6330555\n",
            " 0.64728603 0.6574507  0.66761537 0.66720878 0.64159382 0.62776987\n",
            " 0.63651149 0.63630819 0.62980281 0.62817646 0.63813783 0.65358813\n",
            " 0.63183574 0.57653995 0.57816629 0.57613336 0.61943484 0.57979264\n",
            " 0.57288067 0.62573694 0.63102257 0.6361049  0.62776987 0.6269567\n",
            " 0.63590161 0.62594023 0.6391543  0.62614353 0.62268754 0.60158032\n",
            " 0.56635457 0.52791375 0.49319088 0.46311143 0.4377484  0.41683662\n",
            " 0.39922389 0.38533229 0.37471855 0.36661595 0.36025995 0.35510039\n",
            " 0.35072252 0.3468596  0.34341952 0.34030575 0.33745062 0.3348152\n",
            " 0.33238009 0.33013657 0.32808062 0.32620785]\n",
            "23 day output [[0.32451135]]\n",
            "24 day input [0.76621264 0.75462492 0.76316324 0.79670665 0.80585485 0.7889815\n",
            " 0.78003659 0.73978451 0.73002643 0.73490547 0.74872942 0.75991055\n",
            " 0.75462492 0.75401504 0.76174019 0.7737345  0.82008538 0.80585485\n",
            " 0.81154706 0.77434438 0.78633869 0.79284407 0.78328929 0.77109169\n",
            " 0.74385038 0.71193332 0.68733482 0.67818662 0.65257166 0.64301687\n",
            " 0.65643423 0.67656028 0.67371417 0.65114861 0.65521447 0.66761537\n",
            " 0.67838992 0.69993901 0.63122586 0.63508843 0.64098394 0.64545639\n",
            " 0.64118723 0.63854442 0.63081927 0.62472047 0.6330555  0.64728603\n",
            " 0.6574507  0.66761537 0.66720878 0.64159382 0.62776987 0.63651149\n",
            " 0.63630819 0.62980281 0.62817646 0.63813783 0.65358813 0.63183574\n",
            " 0.57653995 0.57816629 0.57613336 0.61943484 0.57979264 0.57288067\n",
            " 0.62573694 0.63102257 0.6361049  0.62776987 0.6269567  0.63590161\n",
            " 0.62594023 0.6391543  0.62614353 0.62268754 0.60158032 0.56635457\n",
            " 0.52791375 0.49319088 0.46311143 0.4377484  0.41683662 0.39922389\n",
            " 0.38533229 0.37471855 0.36661595 0.36025995 0.35510039 0.35072252\n",
            " 0.3468596  0.34341952 0.34030575 0.33745062 0.3348152  0.33238009\n",
            " 0.33013657 0.32808062 0.32620785 0.32451135]\n",
            "24 day output [[0.32296872]]\n",
            "25 day input [0.75462492 0.76316324 0.79670665 0.80585485 0.7889815  0.78003659\n",
            " 0.73978451 0.73002643 0.73490547 0.74872942 0.75991055 0.75462492\n",
            " 0.75401504 0.76174019 0.7737345  0.82008538 0.80585485 0.81154706\n",
            " 0.77434438 0.78633869 0.79284407 0.78328929 0.77109169 0.74385038\n",
            " 0.71193332 0.68733482 0.67818662 0.65257166 0.64301687 0.65643423\n",
            " 0.67656028 0.67371417 0.65114861 0.65521447 0.66761537 0.67838992\n",
            " 0.69993901 0.63122586 0.63508843 0.64098394 0.64545639 0.64118723\n",
            " 0.63854442 0.63081927 0.62472047 0.6330555  0.64728603 0.6574507\n",
            " 0.66761537 0.66720878 0.64159382 0.62776987 0.63651149 0.63630819\n",
            " 0.62980281 0.62817646 0.63813783 0.65358813 0.63183574 0.57653995\n",
            " 0.57816629 0.57613336 0.61943484 0.57979264 0.57288067 0.62573694\n",
            " 0.63102257 0.6361049  0.62776987 0.6269567  0.63590161 0.62594023\n",
            " 0.6391543  0.62614353 0.62268754 0.60158032 0.56635457 0.52791375\n",
            " 0.49319088 0.46311143 0.4377484  0.41683662 0.39922389 0.38533229\n",
            " 0.37471855 0.36661595 0.36025995 0.35510039 0.35072252 0.3468596\n",
            " 0.34341952 0.34030575 0.33745062 0.3348152  0.33238009 0.33013657\n",
            " 0.32808062 0.32620785 0.32451135 0.32296872]\n",
            "25 day output [[0.32157058]]\n",
            "26 day input [0.76316324 0.79670665 0.80585485 0.7889815  0.78003659 0.73978451\n",
            " 0.73002643 0.73490547 0.74872942 0.75991055 0.75462492 0.75401504\n",
            " 0.76174019 0.7737345  0.82008538 0.80585485 0.81154706 0.77434438\n",
            " 0.78633869 0.79284407 0.78328929 0.77109169 0.74385038 0.71193332\n",
            " 0.68733482 0.67818662 0.65257166 0.64301687 0.65643423 0.67656028\n",
            " 0.67371417 0.65114861 0.65521447 0.66761537 0.67838992 0.69993901\n",
            " 0.63122586 0.63508843 0.64098394 0.64545639 0.64118723 0.63854442\n",
            " 0.63081927 0.62472047 0.6330555  0.64728603 0.6574507  0.66761537\n",
            " 0.66720878 0.64159382 0.62776987 0.63651149 0.63630819 0.62980281\n",
            " 0.62817646 0.63813783 0.65358813 0.63183574 0.57653995 0.57816629\n",
            " 0.57613336 0.61943484 0.57979264 0.57288067 0.62573694 0.63102257\n",
            " 0.6361049  0.62776987 0.6269567  0.63590161 0.62594023 0.6391543\n",
            " 0.62614353 0.62268754 0.60158032 0.56635457 0.52791375 0.49319088\n",
            " 0.46311143 0.4377484  0.41683662 0.39922389 0.38533229 0.37471855\n",
            " 0.36661595 0.36025995 0.35510039 0.35072252 0.3468596  0.34341952\n",
            " 0.34030575 0.33745062 0.3348152  0.33238009 0.33013657 0.32808062\n",
            " 0.32620785 0.32451135 0.32296872 0.32157058]\n",
            "26 day output [[0.32030654]]\n",
            "27 day input [0.79670665 0.80585485 0.7889815  0.78003659 0.73978451 0.73002643\n",
            " 0.73490547 0.74872942 0.75991055 0.75462492 0.75401504 0.76174019\n",
            " 0.7737345  0.82008538 0.80585485 0.81154706 0.77434438 0.78633869\n",
            " 0.79284407 0.78328929 0.77109169 0.74385038 0.71193332 0.68733482\n",
            " 0.67818662 0.65257166 0.64301687 0.65643423 0.67656028 0.67371417\n",
            " 0.65114861 0.65521447 0.66761537 0.67838992 0.69993901 0.63122586\n",
            " 0.63508843 0.64098394 0.64545639 0.64118723 0.63854442 0.63081927\n",
            " 0.62472047 0.6330555  0.64728603 0.6574507  0.66761537 0.66720878\n",
            " 0.64159382 0.62776987 0.63651149 0.63630819 0.62980281 0.62817646\n",
            " 0.63813783 0.65358813 0.63183574 0.57653995 0.57816629 0.57613336\n",
            " 0.61943484 0.57979264 0.57288067 0.62573694 0.63102257 0.6361049\n",
            " 0.62776987 0.6269567  0.63590161 0.62594023 0.6391543  0.62614353\n",
            " 0.62268754 0.60158032 0.56635457 0.52791375 0.49319088 0.46311143\n",
            " 0.4377484  0.41683662 0.39922389 0.38533229 0.37471855 0.36661595\n",
            " 0.36025995 0.35510039 0.35072252 0.3468596  0.34341952 0.34030575\n",
            " 0.33745062 0.3348152  0.33238009 0.33013657 0.32808062 0.32620785\n",
            " 0.32451135 0.32296872 0.32157058 0.32030654]\n",
            "27 day output [[0.31916165]]\n",
            "[[0.6015803217887878], [0.5663545727729797], [0.5279137492179871], [0.4931908845901489], [0.46311143040657043], [0.43774840235710144], [0.41683661937713623], [0.3992238938808441], [0.38533228635787964], [0.3747185468673706], [0.3666159510612488], [0.3602599501609802], [0.3551003932952881], [0.3507225215435028], [0.3468596041202545], [0.34341952204704285], [0.34030574560165405], [0.33745062351226807], [0.33481520414352417], [0.332380086183548], [0.33013656735420227], [0.3280806243419647], [0.32620784640312195], [0.3245113492012024], [0.3229687213897705], [0.32157057523727417], [0.32030653953552246], [0.31916165351867676]]\n"
          ]
        }
      ],
      "source": [
        "tmpinput = list(xinput)\n",
        "temp_input = tmpinput[0].tolist()\n",
        "\n",
        "lstoutput=[]\n",
        "nossteps=100\n",
        "nextNumberOfDays = 28\n",
        "i=0\n",
        "\n",
        "while(i<nextNumberOfDays):\n",
        "    \n",
        "    if(len(temp_input)>100):\n",
        "        xinput=np.array(temp_input[1:])\n",
        "        print(\"{} day input {}\".format(i,xinput))\n",
        "        xinput=xinput.reshape(1,-1)\n",
        "        xinput = xinput.reshape((1, nossteps, 1))\n",
        "        yhat = mdl.predict(xinput, verbose=0)\n",
        "        print(\"{} day output {}\".format(i,yhat))\n",
        "        temp_input.extend(yhat[0].tolist())\n",
        "        temp_input=temp_input[1:]\n",
        "        lstoutput.extend(yhat.tolist())\n",
        "        i=i+1\n",
        "    else:\n",
        "        xinput = xinput.reshape((1, nossteps,1))\n",
        "        yhat = mdl.predict(xinput, verbose=0)\n",
        "        print(yhat[0])\n",
        "        temp_input.extend(yhat[0].tolist())\n",
        "        print(len(temp_input))\n",
        "        lstoutput.extend(yhat.tolist())\n",
        "        i=i+1\n",
        "    \n",
        "\n",
        "print(lstoutput)"
      ]
    },
    {
      "cell_type": "code",
      "execution_count": 26,
      "metadata": {
        "id": "-8OrTTHC5G29"
      },
      "outputs": [],
      "source": [
        "dnew = np.arange(1,101)\n",
        "dpred = np.arange(101,129)"
      ]
    },
    {
      "cell_type": "code",
      "execution_count": 27,
      "metadata": {
        "colab": {
          "base_uri": "https://localhost:8080/"
        },
        "id": "Xw5mslnm5LBf",
        "outputId": "eba44bfd-8c6b-442e-9491-84483c5ad908"
      },
      "outputs": [
        {
          "data": {
            "text/plain": [
              "(100,)"
            ]
          },
          "execution_count": 27,
          "metadata": {},
          "output_type": "execute_result"
        }
      ],
      "source": [
        "dnew.shape"
      ]
    },
    {
      "cell_type": "code",
      "execution_count": 28,
      "metadata": {
        "colab": {
          "base_uri": "https://localhost:8080/"
        },
        "id": "_wOZPZVF5Mg_",
        "outputId": "0c4528df-8be6-4973-e445-718dd84db338"
      },
      "outputs": [
        {
          "data": {
            "text/plain": [
              "(28,)"
            ]
          },
          "execution_count": 28,
          "metadata": {},
          "output_type": "execute_result"
        }
      ],
      "source": [
        "dpred.shape"
      ]
    },
    {
      "cell_type": "code",
      "execution_count": 29,
      "metadata": {
        "colab": {
          "base_uri": "https://localhost:8080/"
        },
        "id": "QHFZ90xQ5ORI",
        "outputId": "46c3308c-4f04-4bd7-9d77-6448779759f9"
      },
      "outputs": [
        {
          "data": {
            "text/plain": [
              "2035"
            ]
          },
          "execution_count": 29,
          "metadata": {},
          "output_type": "execute_result"
        }
      ],
      "source": [
        "defn3 = defn_high.tolist()\n",
        "defn3.extend(lstoutput)\n",
        "\n",
        "len(defn_high)"
      ]
    },
    {
      "cell_type": "code",
      "execution_count": 30,
      "metadata": {
        "colab": {
          "base_uri": "https://localhost:8080/",
          "height": 284
        },
        "id": "o_-mi27r5R_H",
        "outputId": "ba6365aa-1476-485e-bb89-baac3d3cdc6c"
      },
      "outputs": [
        {
          "data": {
            "text/plain": [
              "[<matplotlib.lines.Line2D at 0x2423f2d1150>]"
            ]
          },
          "execution_count": 30,
          "metadata": {},
          "output_type": "execute_result"
        },
        {
          "data": {
            "image/png": "[encoded data removed]",
            "text/plain": [
              "<Figure size 432x288 with 1 Axes>"
            ]
          },
          "metadata": {
            "needs_background": "light"
          },
          "output_type": "display_data"
        }
      ],
      "source": [
        "plt.plot(dnew, sclr.inverse_transform(defn_high[1935:]))\n",
        "plt.plot(dpred, sclr.inverse_transform(lstoutput))"
      ]
    },
    {
      "cell_type": "code",
      "execution_count": 31,
      "metadata": {
        "colab": {
          "base_uri": "https://localhost:8080/",
          "height": 284
        },
        "id": "RxVmM6dP5Tyz",
        "outputId": "484f89dd-81c7-4e45-a9c2-03f2cd520013"
      },
      "outputs": [
        {
          "data": {
            "text/plain": [
              "[<matplotlib.lines.Line2D at 0x2424742e500>]"
            ]
          },
          "execution_count": 31,
          "metadata": {},
          "output_type": "execute_result"
        },
        {
          "data": {
            "image/png": "[encoded data removed]",
            "text/plain": [
              "<Figure size 432x288 with 1 Axes>"
            ]
          },
          "metadata": {
            "needs_background": "light"
          },
          "output_type": "display_data"
        }
      ],
      "source": [
        "defn3=defn_high.tolist()\n",
        "defn3.extend(lstoutput)\n",
        "plt.plot(defn3[2000:])"
      ]
    },
    {
      "cell_type": "code",
      "execution_count": 32,
      "metadata": {
        "id": "WdjRNujU5VWA"
      },
      "outputs": [],
      "source": [
        "defn3=sclr.inverse_transform(defn3).tolist()"
      ]
    },
    {
      "cell_type": "code",
      "execution_count": 33,
      "metadata": {
        "colab": {
          "base_uri": "https://localhost:8080/",
          "height": 294
        },
        "id": "sKP3mWMk-RCe",
        "outputId": "77ab261d-b9b8-4230-d00f-2a433bff21d1"
      },
      "outputs": [
        {
          "data": {
            "text/plain": [
              "[<matplotlib.lines.Line2D at 0x24247464670>]"
            ]
          },
          "execution_count": 33,
          "metadata": {},
          "output_type": "execute_result"
        },
        {
          "data": {
            "image/png": "[encoded data removed]",
            "text/plain": [
              "<Figure size 432x288 with 1 Axes>"
            ]
          },
          "metadata": {
            "needs_background": "light"
          },
          "output_type": "display_data"
        }
      ],
      "source": [
        "plt.plot(defn3)"
      ]
    },
    {
      "cell_type": "markdown",
      "metadata": {},
      "source": [
        "CONCLUSION\n",
        "\n",
        "We have successfully completed a project on stock market prediction and forecasting using stacked LSTM."
      ]
    }
  ],
  "metadata": {
    "colab": {
      "collapsed_sections": [],
      "name": "Stock Market Prediction And Forecasting Using Stacked LSTM.ipynb",
      "provenance": []
    },
    "kernelspec": {
      "display_name": "Python 3",
      "name": "python3"
    },
    "language_info": {
      "codemirror_mode": {
        "name": "ipython",
        "version": 3
      },
      "file_extension": ".py",
      "mimetype": "text/x-python",
      "name": "python",
      "nbconvert_exporter": "python",
      "pygments_lexer": "ipython3",
      "version": "3.10.2"
    }
  },
  "nbformat": 4,
  "nbformat_minor": 0
}
